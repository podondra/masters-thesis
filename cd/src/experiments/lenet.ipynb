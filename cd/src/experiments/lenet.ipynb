{
 "cells": [
  {
   "cell_type": "code",
   "execution_count": null,
   "metadata": {},
   "outputs": [],
   "source": [
    "from pathlib import Path\n",
    "\n",
    "import numpy as np\n",
    "from sklearn.metrics import confusion_matrix, f1_score, precision_score, recall_score\n",
    "import torch\n",
    "from torch import nn, optim\n",
    "import torch.nn.functional as F\n",
    "from torch.utils.data import DataLoader\n",
    "from torch.utils.tensorboard import SummaryWriter\n",
    "\n",
    "from qso.utils import init_weights, load_ds, predict"
   ]
  },
  {
   "cell_type": "code",
   "execution_count": null,
   "metadata": {},
   "outputs": [],
   "source": [
    "ds_file = Path(\"data\") / \"dataset.hdf5\"\n",
    "bs = 64\n",
    "bs_eval = 2048\n",
    "\n",
    "src_ds = load_ds(ds_file, \"sdss\")\n",
    "src_dl = DataLoader(src_ds, batch_size=bs, shuffle=True)\n",
    "src_dl_eval = DataLoader(src_ds, batch_size=bs_eval)\n",
    "src_dl_va = DataLoader(load_ds(ds_file, \"sdss\", va=True), batch_size=bs_eval)\n",
    "trg_dl_va = DataLoader(load_ds(ds_file, \"lamost\", va=True), batch_size=bs_eval)"
   ]
  },
  {
   "cell_type": "code",
   "execution_count": null,
   "metadata": {},
   "outputs": [],
   "source": [
    "class LeNet_5(nn.Module):\n",
    "    def __init__(self):\n",
    "        super().__init__()\n",
    "        self.conv1 = nn.Conv1d(1, 32, 5, padding=2)\n",
    "        self.pool1 = nn.MaxPool1d(16, 16)\n",
    "        self.conv2 = nn.Conv1d(32, 48, 5, padding=2)\n",
    "        self.pool2 = nn.MaxPool1d(16, 16)\n",
    "        self.fc1 = nn.Linear(48 * 14, 100)\n",
    "        self.fc2 = nn.Linear(100, 100)\n",
    "        self.fc3 = nn.Linear(100, 1)\n",
    "\n",
    "    def forward(self, x):\n",
    "        x = F.relu(self.conv1(x))\n",
    "        x = self.pool1(x)\n",
    "        x = F.relu(self.conv2(x))\n",
    "        x = self.pool2(x)\n",
    "        x = torch.flatten(x, 1)\n",
    "        x = F.relu(self.fc1(x))\n",
    "        x = F.relu(self.fc2(x))\n",
    "        x = self.fc3(x)\n",
    "        return x"
   ]
  },
  {
   "cell_type": "code",
   "execution_count": null,
   "metadata": {},
   "outputs": [],
   "source": [
    "dev = torch.device(\"cuda\")\n",
    "model = LeNet_5().to(dev)\n",
    "model.apply(init_weights)\n",
    "criterion = nn.BCEWithLogitsLoss()\n",
    "opt = optim.Adam(model.parameters())\n",
    "\n",
    "writer = SummaryWriter(comment=\"_lenet\")\n",
    "\n",
    "epochs = 20\n",
    "for epoch in range(1, epochs + 1):\n",
    "    for xb, yb in src_dl:\n",
    "        xb, yb = xb.to(dev), yb.to(dev)\n",
    "        loss = criterion(model(xb), yb.unsqueeze(-1))\n",
    "        loss.backward()\n",
    "        opt.step()\n",
    "        opt.zero_grad()\n",
    "\n",
    "    with torch.no_grad():\n",
    "        src_trues, src_preds = predict(model, src_dl_eval, dev)\n",
    "        src_trues_va, src_preds_va = predict(model, src_dl_va, dev)\n",
    "        trg_trues_va, trg_preds_va = predict(model, trg_dl_va, dev)\n",
    "\n",
    "    writer.add_scalars(\"loss\", {\"training\": criterion(src_preds, src_trues),\n",
    "                                \"validation\": criterion(src_preds_va, src_trues_va)}, epoch)\n",
    "    writer.add_scalars(\"f1\", {\"source\": f1_score(src_trues_va.bool(), src_preds_va > 0),\n",
    "                              \"target\": f1_score(trg_trues_va.bool(), trg_preds_va > 0)}, epoch)\n",
    "\n",
    "torch.save(model.state_dict(), str(Path(\"models\") / \"lenet-5.pt\"))"
   ]
  }
 ],
 "metadata": {
  "kernelspec": {
   "display_name": "Python 3",
   "language": "python",
   "name": "python3"
  },
  "language_info": {
   "codemirror_mode": {
    "name": "ipython",
    "version": 3
   },
   "file_extension": ".py",
   "mimetype": "text/x-python",
   "name": "python",
   "nbconvert_exporter": "python",
   "pygments_lexer": "ipython3",
   "version": "3.5.3"
  }
 },
 "nbformat": 4,
 "nbformat_minor": 4
}

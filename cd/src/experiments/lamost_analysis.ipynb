{
 "cells": [
  {
   "cell_type": "code",
   "execution_count": 1,
   "metadata": {},
   "outputs": [],
   "source": [
    "from pathlib import Path\n",
    "\n",
    "from astropy.io import fits\n",
    "import h5py\n",
    "from matplotlib import rc\n",
    "import matplotlib.pyplot as plt\n",
    "import numpy as np\n",
    "import pandas as pd\n",
    "\n",
    "from qso import lamost, utils"
   ]
  },
  {
   "cell_type": "code",
   "execution_count": 2,
   "metadata": {},
   "outputs": [],
   "source": [
    "rc(\"font\", family=\"serif\")\n",
    "rc(\"text\", usetex=True)"
   ]
  },
  {
   "cell_type": "code",
   "execution_count": 3,
   "metadata": {},
   "outputs": [],
   "source": [
    "LAMOST_DIR = Path(\"data\") / \"lamost\"\n",
    "LAMOST_DR5 = LAMOST_DIR / \"lamost_dr5_v3\"\n",
    "LAMOST_CATALOG = LAMOST_DIR / \"dr5_v3.fits\"\n",
    "LAMOST_COVERAGE = LAMOST_DIR / \"lamost_dr5_v3_coverage.csv\"\n",
    "LAMOST_QSO_CATALOG = LAMOST_DIR / \"lamost_phase1_v02.fits\"\n",
    "FIGS_DIR = Path(\"figs\")"
   ]
  },
  {
   "cell_type": "markdown",
   "metadata": {},
   "source": [
    "# LAMOST DR5 General Catalog"
   ]
  },
  {
   "cell_type": "code",
   "execution_count": 4,
   "metadata": {},
   "outputs": [
    {
     "name": "stdout",
     "output_type": "stream",
     "text": [
      "Filename: data/lamost/dr5_v3.fits\n",
      "No.    Name      Ver    Type      Cards   Dimensions   Format\n",
      "  0  PRIMARY       1 PrimaryHDU      17   ()      \n",
      "  1                1 BinTableHDU    130   9026365R x 37C   [J, 19A, 10A, J, J, 40A, B, B, D, D, E, E, E, E, E, 16A, 20A, 20A, E, E, 25A, E, E, E, E, E, E, E, 16A, 10A, 60A, 60A, B, E, D, D, I]   \n"
     ]
    }
   ],
   "source": [
    "with fits.open(LAMOST_CATALOG) as catalog_hdul:\n",
    "    catalog_hdul.info()\n",
    "    catalog = catalog_hdul[1].data"
   ]
  },
  {
   "cell_type": "code",
   "execution_count": 5,
   "metadata": {},
   "outputs": [
    {
     "data": {
      "text/plain": [
       "(dtype('>i4'), dtype('<U40'), dtype('uint8'), dtype('uint8'))"
      ]
     },
     "execution_count": 5,
     "metadata": {},
     "output_type": "execute_result"
    }
   ],
   "source": [
    "catalog[\"lmjd\"].dtype, catalog[\"planid\"].dtype, catalog[\"spid\"].dtype, catalog[\"fiberid\"].dtype"
   ]
  },
  {
   "cell_type": "code",
   "execution_count": 6,
   "metadata": {},
   "outputs": [
    {
     "data": {
      "text/plain": [
       "True"
      ]
     },
     "execution_count": 6,
     "metadata": {},
     "output_type": "execute_result"
    }
   ],
   "source": [
    "# LAMOST uses local modified julian date\n",
    "np.all(catalog[\"lmjd\"] - 1 == catalog[\"mjd\"])"
   ]
  },
  {
   "cell_type": "code",
   "execution_count": 7,
   "metadata": {},
   "outputs": [
    {
     "name": "stderr",
     "output_type": "stream",
     "text": [
      "/data/podondra/qso/venv/lib/python3.5/site-packages/numpy/lib/arraysetops.py:569: FutureWarning: elementwise comparison failed; returning scalar instead, but in the future will perform elementwise comparison\n",
      "  mask |= (ar1 == a)\n"
     ]
    },
    {
     "name": "stdout",
     "output_type": "stream",
     "text": [
      "<class 'pandas.core.frame.DataFrame'>\n",
      "MultiIndex: 9026365 entries, (B5591606, 55916, 1, 1) to (kepler08F56096, 56096, 16, 250)\n",
      "Data columns (total 2 columns):\n",
      "wavemax    float32\n",
      "wavemin    float32\n",
      "dtypes: float32(2)\n",
      "memory usage: 129.2+ MB\n"
     ]
    },
    {
     "data": {
      "text/html": [
       "<div>\n",
       "<style scoped>\n",
       "    .dataframe tbody tr th:only-of-type {\n",
       "        vertical-align: middle;\n",
       "    }\n",
       "\n",
       "    .dataframe tbody tr th {\n",
       "        vertical-align: top;\n",
       "    }\n",
       "\n",
       "    .dataframe thead th {\n",
       "        text-align: right;\n",
       "    }\n",
       "</style>\n",
       "<table border=\"1\" class=\"dataframe\">\n",
       "  <thead>\n",
       "    <tr style=\"text-align: right;\">\n",
       "      <th></th>\n",
       "      <th></th>\n",
       "      <th></th>\n",
       "      <th></th>\n",
       "      <th>wavemax</th>\n",
       "      <th>wavemin</th>\n",
       "    </tr>\n",
       "    <tr>\n",
       "      <th>planid</th>\n",
       "      <th>lmjd</th>\n",
       "      <th>spid</th>\n",
       "      <th>fiberid</th>\n",
       "      <th></th>\n",
       "      <th></th>\n",
       "    </tr>\n",
       "  </thead>\n",
       "  <tbody>\n",
       "    <tr>\n",
       "      <th rowspan=\"5\" valign=\"top\">B5591606</th>\n",
       "      <th rowspan=\"5\" valign=\"top\">55916</th>\n",
       "      <th rowspan=\"5\" valign=\"top\">1</th>\n",
       "      <th>1</th>\n",
       "      <td>9099.134766</td>\n",
       "      <td>3699.986328</td>\n",
       "    </tr>\n",
       "    <tr>\n",
       "      <th>2</th>\n",
       "      <td>9099.134766</td>\n",
       "      <td>3699.986328</td>\n",
       "    </tr>\n",
       "    <tr>\n",
       "      <th>3</th>\n",
       "      <td>9099.134766</td>\n",
       "      <td>3699.986328</td>\n",
       "    </tr>\n",
       "    <tr>\n",
       "      <th>4</th>\n",
       "      <td>9099.134766</td>\n",
       "      <td>3699.986328</td>\n",
       "    </tr>\n",
       "    <tr>\n",
       "      <th>5</th>\n",
       "      <td>9099.134766</td>\n",
       "      <td>3699.986328</td>\n",
       "    </tr>\n",
       "  </tbody>\n",
       "</table>\n",
       "</div>"
      ],
      "text/plain": [
       "                                 wavemax      wavemin\n",
       "planid   lmjd  spid fiberid                          \n",
       "B5591606 55916 1    1        9099.134766  3699.986328\n",
       "                    2        9099.134766  3699.986328\n",
       "                    3        9099.134766  3699.986328\n",
       "                    4        9099.134766  3699.986328\n",
       "                    5        9099.134766  3699.986328"
      ]
     },
     "execution_count": 7,
     "metadata": {},
     "output_type": "execute_result"
    }
   ],
   "source": [
    "catalog_df = pd.read_csv(\n",
    "    LAMOST_COVERAGE,\n",
    "    index_col=[\"planid\", \"lmjd\", \"spid\", \"fiberid\"],\n",
    "    dtype={\"wavemax\": \"f4\", \"wavemin\": \"f4\"}\n",
    ").sort_index()\n",
    "catalog_df.info()\n",
    "catalog_df.head()"
   ]
  },
  {
   "cell_type": "markdown",
   "metadata": {},
   "source": [
    "## Analysis"
   ]
  },
  {
   "cell_type": "code",
   "execution_count": 8,
   "metadata": {},
   "outputs": [
    {
     "data": {
      "image/png": "[encoded data removed]",
      "text/plain": [
       "<Figure size 432x288 with 2 Axes>"
      ]
     },
     "metadata": {
      "needs_background": "light"
     },
     "output_type": "display_data"
    }
   ],
   "source": [
    "fig, (ax1, ax2) = plt.subplots(ncols=2, sharey=True)\n",
    "catalog_df[\"wavemin\"].plot.hist(ax=ax1, bins=32, log=True)\n",
    "catalog_df[\"wavemax\"].plot.hist(ax=ax2, bins=32, log=True)\n",
    "ax1.set_xlabel(\"Minimal wavelength (\\AA{})\")\n",
    "ax2.set_xlabel(\"Maximal wavelength (\\AA{})\")\n",
    "plt.savefig(str(FIGS_DIR / \"wavemin_wavemax_hist.pdf\"))"
   ]
  },
  {
   "cell_type": "code",
   "execution_count": 9,
   "metadata": {},
   "outputs": [
    {
     "data": {
      "text/plain": [
       "(8914.597, 3.9501016, 3839.7244, 3.5843)"
      ]
     },
     "execution_count": 9,
     "metadata": {},
     "output_type": "execute_result"
    }
   ],
   "source": [
    "wavemin, wavemax = catalog_df[\"wavemin\"].max(), catalog_df[\"wavemax\"].min()\n",
    "wavemax, np.log10(wavemax), wavemin, np.log10(wavemin)"
   ]
  },
  {
   "cell_type": "code",
   "execution_count": 10,
   "metadata": {},
   "outputs": [
    {
     "data": {
      "text/plain": [
       "(array([3699.9863, 3700.8384, 3701.6907, ..., 9094.945 , 9097.04  ,\n",
       "        9099.135 ], dtype=float32),\n",
       " array([3.5682   , 3.5683002, 3.5684001, ..., 3.9588   , 3.9589002,\n",
       "        3.959    ], dtype=float32))"
      ]
     },
     "execution_count": 10,
     "metadata": {},
     "output_type": "execute_result"
    }
   ],
   "source": [
    "random_spec = catalog_df.sample().index[0]\n",
    "with fits.open(LAMOST_DR5 / lamost.get_dr_path(*random_spec)) as hdul: \n",
    "    lam = hdul[0].data[2]\n",
    "    loglam = np.log10(lam)\n",
    "lam, loglam"
   ]
  },
  {
   "cell_type": "markdown",
   "metadata": {},
   "source": [
    "# Full QSO Catalog"
   ]
  },
  {
   "cell_type": "code",
   "execution_count": 11,
   "metadata": {},
   "outputs": [
    {
     "name": "stdout",
     "output_type": "stream",
     "text": [
      "Filename: data/lamost/lamost_phase1_v02.fits\n",
      "No.    Name      Ver    Type      Cards   Dimensions   Format\n",
      "  0  PRIMARY       1 PrimaryHDU       4   ()      \n",
      "  1                1 BinTableHDU    145   42552R x 64C   [J, 19A, D, D, J, 20A, J, J, D, J, D, J, D, J, D, D, D, D, D, D, D, D, J, D, J, D, D, D, D, D, D, D, J, D, J, D, D, D, D, D, D, D, J, D, J, D, D, D, D, D, D, J, D, J, D, D, D, D, D, D, D, D, D, A]   \n"
     ]
    }
   ],
   "source": [
    "with fits.open(LAMOST_QSO_CATALOG) as qso_hdul:\n",
    "    qso_hdul.info()\n",
    "    qso_catalog = qso_hdul[1].data"
   ]
  },
  {
   "cell_type": "code",
   "execution_count": 12,
   "metadata": {},
   "outputs": [
    {
     "data": {
      "text/plain": [
       "(dtype('<U20'), dtype('>i4'), dtype('>i4'), dtype('>i4'))"
      ]
     },
     "execution_count": 12,
     "metadata": {},
     "output_type": "execute_result"
    }
   ],
   "source": [
    "qso_catalog[\"planid\"].dtype, qso_catalog[\"mjd\"].dtype, qso_catalog[\"spid\"].dtype, qso_catalog[\"fiberid\"].dtype"
   ]
  },
  {
   "cell_type": "code",
   "execution_count": 13,
   "metadata": {},
   "outputs": [
    {
     "data": {
      "text/plain": [
       "(31755,)"
      ]
     },
     "execution_count": 13,
     "metadata": {},
     "output_type": "execute_result"
    }
   ],
   "source": [
    "arrays = [\n",
    "    list(x.strip() for x in qso_catalog[\"planid\"]),\n",
    "    qso_catalog[\"mjd\"].astype(\"i4\") + 1,\n",
    "    qso_catalog[\"spid\"].astype(\"i2\"),\n",
    "    qso_catalog[\"fiberid\"].astype(\"i2\"),\n",
    "]\n",
    "qso_multiindex = pd.MultiIndex.from_arrays(\n",
    "    arrays, names=[\"planid\", \"lmjd\", \"spid\", \"fiberid\"]\n",
    ")\n",
    "\n",
    "qso_missing = qso_multiindex.difference(catalog_df.index)\n",
    "qso_multiindex = qso_multiindex.difference(qso_missing)\n",
    "qso_multiindex.shape"
   ]
  },
  {
   "cell_type": "code",
   "execution_count": 14,
   "metadata": {},
   "outputs": [
    {
     "data": {
      "text/html": [
       "<div>\n",
       "<style scoped>\n",
       "    .dataframe tbody tr th:only-of-type {\n",
       "        vertical-align: middle;\n",
       "    }\n",
       "\n",
       "    .dataframe tbody tr th {\n",
       "        vertical-align: top;\n",
       "    }\n",
       "\n",
       "    .dataframe thead th {\n",
       "        text-align: right;\n",
       "    }\n",
       "</style>\n",
       "<table border=\"1\" class=\"dataframe\">\n",
       "  <thead>\n",
       "    <tr style=\"text-align: right;\">\n",
       "      <th></th>\n",
       "      <th></th>\n",
       "      <th></th>\n",
       "      <th></th>\n",
       "      <th>wavemax</th>\n",
       "      <th>wavemin</th>\n",
       "      <th>qso</th>\n",
       "    </tr>\n",
       "    <tr>\n",
       "      <th>planid</th>\n",
       "      <th>lmjd</th>\n",
       "      <th>spid</th>\n",
       "      <th>fiberid</th>\n",
       "      <th></th>\n",
       "      <th></th>\n",
       "      <th></th>\n",
       "    </tr>\n",
       "  </thead>\n",
       "  <tbody>\n",
       "    <tr>\n",
       "      <th rowspan=\"5\" valign=\"top\">B5591606</th>\n",
       "      <th rowspan=\"5\" valign=\"top\">55916</th>\n",
       "      <th rowspan=\"5\" valign=\"top\">1</th>\n",
       "      <th>1</th>\n",
       "      <td>9099.134766</td>\n",
       "      <td>3699.986328</td>\n",
       "      <td>False</td>\n",
       "    </tr>\n",
       "    <tr>\n",
       "      <th>2</th>\n",
       "      <td>9099.134766</td>\n",
       "      <td>3699.986328</td>\n",
       "      <td>False</td>\n",
       "    </tr>\n",
       "    <tr>\n",
       "      <th>3</th>\n",
       "      <td>9099.134766</td>\n",
       "      <td>3699.986328</td>\n",
       "      <td>False</td>\n",
       "    </tr>\n",
       "    <tr>\n",
       "      <th>4</th>\n",
       "      <td>9099.134766</td>\n",
       "      <td>3699.986328</td>\n",
       "      <td>False</td>\n",
       "    </tr>\n",
       "    <tr>\n",
       "      <th>5</th>\n",
       "      <td>9099.134766</td>\n",
       "      <td>3699.986328</td>\n",
       "      <td>False</td>\n",
       "    </tr>\n",
       "  </tbody>\n",
       "</table>\n",
       "</div>"
      ],
      "text/plain": [
       "                                 wavemax      wavemin    qso\n",
       "planid   lmjd  spid fiberid                                 \n",
       "B5591606 55916 1    1        9099.134766  3699.986328  False\n",
       "                    2        9099.134766  3699.986328  False\n",
       "                    3        9099.134766  3699.986328  False\n",
       "                    4        9099.134766  3699.986328  False\n",
       "                    5        9099.134766  3699.986328  False"
      ]
     },
     "execution_count": 14,
     "metadata": {},
     "output_type": "execute_result"
    }
   ],
   "source": [
    "catalog_df[\"qso\"] = False\n",
    "catalog_df.loc[qso_multiindex, \"qso\"] = True\n",
    "catalog_df.head()"
   ]
  },
  {
   "cell_type": "markdown",
   "metadata": {},
   "source": [
    "# Dataset"
   ]
  },
  {
   "cell_type": "code",
   "execution_count": 15,
   "metadata": {},
   "outputs": [],
   "source": [
    "EPS = 0.00005\n",
    "N_TRAIN = 10 ** 6\n",
    "N_VALID = 50000\n",
    "SIZE = N_TRAIN + N_VALID"
   ]
  },
  {
   "cell_type": "code",
   "execution_count": 16,
   "metadata": {},
   "outputs": [
    {
     "data": {
      "text/plain": [
       "(3517, 190)"
      ]
     },
     "execution_count": 16,
     "metadata": {},
     "output_type": "execute_result"
    }
   ],
   "source": [
    "sample_df = catalog_df.sample(SIZE, random_state=28)\n",
    "sample_df.iloc[:N_TRAIN][\"qso\"].sum(), sample_df.iloc[N_TRAIN:][\"qso\"].sum()"
   ]
  }
 ],
 "metadata": {
  "kernelspec": {
   "display_name": "Python 3",
   "language": "python",
   "name": "python3"
  },
  "language_info": {
   "codemirror_mode": {
    "name": "ipython",
    "version": 3
   },
   "file_extension": ".py",
   "mimetype": "text/x-python",
   "name": "python",
   "nbconvert_exporter": "python",
   "pygments_lexer": "ipython3",
   "version": "3.5.3"
  }
 },
 "nbformat": 4,
 "nbformat_minor": 4
}
